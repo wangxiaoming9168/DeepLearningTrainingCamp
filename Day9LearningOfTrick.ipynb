{
 "cells": [
  {
   "cell_type": "markdown",
   "metadata": {},
   "source": [
    "# 1.参数的更新\n",
    "神经网络的学习的目的是找到使损失函数的值尽可能小的参数。这是寻找最优参数的问题，解决这个问题的过程称为最优化（optimization）。使用参数梯度，沿梯度方向更新参数，并重复这个步骤多次，从而逐渐靠近最优参数，这个过程称为**随机梯度下降法**(stochastic,gradient descent),简称**SGD**。"
   ]
  },
  {
   "cell_type": "code",
   "execution_count": 1,
   "metadata": {},
   "outputs": [],
   "source": [
    "#python实现SGD类\n",
    "class SGD:\n",
    "    def __init__(self,lr=0.01):\n",
    "        self.lr = lr\n",
    "        \n",
    "    def update(self,params,grads):\n",
    "        for key in params.keys():\n",
    "            params[key] -= self.lr*grads[key]\n",
    "            \n",
    "#lr表示learning rate(学习率).update方法在SGD中会被反复调用。参数params和grads是字段行变量，按params['W1']、grads['W1']的形式，\n",
    "#分别保存了权重参数和梯度"
   ]
  },
  {
   "cell_type": "markdown",
   "metadata": {},
   "source": [
    "### SGD的缺点\n",
    "求下面这个函数的最小值问题。\n",
    "<img src=\"img/formul6.2.gif\">\n",
    "如图 6-1 所示，式（6.2）表示的函数是向 x 轴方向延伸的“碗”状函数。实际上，式（6.2）的等高线呈向 x 轴方向延伸的椭圆状。\n",
    "<img src=\"img/graph.png\" width=\"80%\">\n",
    "<center>图6-1 公式6.2的图形（左图）和它的等高线（右图）</center>\n",
    "\n",
    "如果用图表示式（6.2）的梯度，则如图 6-2 所示。这个梯度的特征是，y 轴方向上大，x 轴方向上小。\n",
    "<img src=\"img/SGD_zhi.png\" width=\"60%\">\n",
    "<center>基于 SGD 的最优化的更新路径：呈“之”字形朝最小值 (0, 0) 移动，效率低</center>\n",
    "\n",
    "从上图看SGD 的缺点是，如果函数的形状非均向（anisotropic），比如呈延伸状，搜索的路径就会非常低效。SGD 低效的根本原因是，梯度的方向并没有指向最小值的方向。"
   ]
  },
  {
   "cell_type": "markdown",
   "metadata": {},
   "source": [
    "### Momentum\n",
    "Momentum 是“动量”的意思，和物理有关。"
   ]
  },
  {
   "cell_type": "code",
   "execution_count": 2,
   "metadata": {},
   "outputs": [],
   "source": [
    "#python的Momentum实现\n",
    "import numpy as np\n",
    "\n",
    "class Momentum:\n",
    "    def __init__(self,lr=0.01,monmentum=0.9):\n",
    "        self.lr = lr\n",
    "        self.monmentum = monmentum\n",
    "        self.v = None\n",
    "        \n",
    "    def update(self,params,grads):\n",
    "        if self.v is None:\n",
    "            self.v={}\n",
    "            for key,val in params.items():\n",
    "                self.v[key] = np.zeros_like(val)\n",
    "                \n",
    "        for key in params.keys():\n",
    "            self.v[key] = self.monmentum*self.v[key] - self.lr*grads[key]\n",
    "            params[key] += self.v[key]\n",
    "#实例变量v会保存物体的速度。初始化时，v中什么都不保存，当第一次调用update()时，v会以字典变量的形式保存与参数结构相同的数据。\n",
    "#更新参数是不仅要考虑当前的梯度值，还要考虑上一次的参数更新"
   ]
  },
  {
   "cell_type": "markdown",
   "metadata": {},
   "source": [
    "和 SGD 相比，我们发现“之”字形的“程度”减轻了。这是因为虽然 x 轴方向上受到的力非常小，但是一直在同一方向上受力，所以朝同一个方向会有一定的加速。反过来，虽然 y 轴方向上受到的力很大，但是因为交互地受到正方向和反方向的力，它们会互相抵消，所以 y 轴方向上的速度不稳定。\n",
    "<img src=\"img/Momentum.png\" width=\"60%\">\n",
    "<center>基于 Momentum 的最优化的更新路径</center>"
   ]
  },
  {
   "cell_type": "markdown",
   "metadata": {},
   "source": [
    "### AdaGrad\n",
    "AdaGrad 会为参数的每个元素适当地调整学习率，与此同时进行学习（AdaGrad 的 Ada 来自英文单词 Adaptive，即“适当的”的意思）。"
   ]
  },
  {
   "cell_type": "code",
   "execution_count": 5,
   "metadata": {},
   "outputs": [],
   "source": [
    "class AdaGrad:\n",
    "    def __init__(self,lr=0.01):\n",
    "        self.lr = lr\n",
    "        self.h = None\n",
    "    \n",
    "    def update(self,params,grads):\n",
    "        if self.h is None:\n",
    "            self.h = {}\n",
    "            for key,val in params.itmes():\n",
    "                self.h[key] = np.zeros_like(val)\n",
    "                \n",
    "            for key in params.keys():\n",
    "                self.h[key] += grads[key] * grads[key]\n",
    "                params[key] -= self.lr*grads[key]/(np.sqrt(self.h[key]) +1e-7)"
   ]
  },
  {
   "cell_type": "markdown",
   "metadata": {},
   "source": [
    "<img src=\"img/AdaGrad.png\" width=\"60%\">\n",
    "<center>基于 AdaGrad 的最优化的更新路径</center>\n",
    "\n",
    "由上图的结果可知，函数的取值高效地向着最小值移动。由于 y 轴方向上的梯度较大，因此刚开始变动较大，但是后面会根据这个较大的变动按比例进行调整，减小更新的步伐。因此，y 轴方向上的更新程度被减弱，“之”字形的变动程度有所衰减。"
   ]
  },
  {
   "cell_type": "markdown",
   "metadata": {},
   "source": [
    "### Adam\n",
    "Adam 是 2015 年提出的新方法。它的理论有些复杂，直观地讲，就是融合了 Momentum 和 AdaGrad 的方法。通过组合前面两个方法的优点，有望实现参数空间的高效搜索。此外，进行超参数的“偏置校正”也是 Adam 的特征。\n",
    "<img src=\"img/Adam.png\" width=\"60%\">\n",
    "<center>基于 Adam 的最优化的更新路径</center>\n",
    "\n",
    "Adam 会设置 3 个超参数。一个是学习率（论文中以 α 出现），另外两个是一次 momentum系数 β1 和二次 momentum系数 β2。根据论文，标准的设定值是 β1 为 0.9，β2 为 0.999。设置了这些值后，大多数情况下都能顺利运行。"
   ]
  },
  {
   "cell_type": "markdown",
   "metadata": {},
   "source": [
    "### 使用哪种更新方法呢\n",
    "<img src=\"img/four.png\" width=\"80%\">\n",
    "<center>最优化方法的比较：SGD、Momentum、AdaGrad、Adam</center>\n",
    "\n",
    "这 4 种方法各有各的特点，都有各自擅长解决的问题和不擅长解决的问题。\n",
    "\n",
    "基于 MNIST 数据集的更新方法的比较\n",
    "\n",
    "与 SGD 相比，其他 3 种方法学习得更快，而且速度基本相同，仔细看的话，AdaGrad 的学习进行得稍微快一点。这个实验需要注意的地方是，实验结果会随学习率等超参数、神经网络的结构（几层深等）的不同而发生变化。不过，一般而言，与 SGD 相比，其他 3 种方法可以学习得更快，有时最终的识别精度也更高。"
   ]
  },
  {
   "cell_type": "markdown",
   "metadata": {},
   "source": [
    "# 2.权重的初始值\n",
    "\n",
    "权重初始值不能都设为0.为了防止\"权重均一化\"，必须随机生成初始值。"
   ]
  },
  {
   "cell_type": "code",
   "execution_count": 18,
   "metadata": {},
   "outputs": [
    {
     "data": {
      "image/png": "[encoded data removed]",
      "text/plain": [
       "<Figure size 432x288 with 5 Axes>"
      ]
     },
     "metadata": {},
     "output_type": "display_data"
    }
   ],
   "source": [
    "# coding: utf-8\n",
    "\n",
    "#隐藏层的激活值的分布\n",
    "import numpy as np\n",
    "import matplotlib.pyplot as plt\n",
    "\n",
    "\n",
    "def sigmoid(x):\n",
    "    return 1 / (1 + np.exp(-x))\n",
    "\n",
    "\n",
    "def ReLU(x):\n",
    "    return np.maximum(0, x)\n",
    "\n",
    "\n",
    "def tanh(x):\n",
    "    return np.tanh(x)\n",
    "    \n",
    "input_data = np.random.randn(1000, 100)  # 1000个数据\n",
    "node_num = 100  # 各隐藏层的节点（神经元）数\n",
    "hidden_layer_size = 5  # 隐藏层有5层\n",
    "activations = {}  # 激活值的结果保存在这里\n",
    "\n",
    "x = input_data\n",
    "\n",
    "for i in range(hidden_layer_size):\n",
    "    if i != 0:\n",
    "        x = activations[i-1]\n",
    "\n",
    "    # 改变初始值进行实验！\n",
    "    w = np.random.randn(node_num, node_num) * 1\n",
    "    # w = np.random.randn(node_num, node_num) * 0.01\n",
    "    # w = np.random.randn(node_num, node_num) * np.sqrt(1.0 / node_num)\n",
    "    # w = np.random.randn(node_num, node_num) * np.sqrt(2.0 / node_num)\n",
    "\n",
    "\n",
    "    a = np.dot(x, w)\n",
    "\n",
    "\n",
    "    # 将激活函数的种类也改变，来进行实验！\n",
    "    z = sigmoid(a)\n",
    "    # z = ReLU(a)\n",
    "    # z = tanh(a)\n",
    "\n",
    "    activations[i] = z\n",
    "\n",
    "# 绘制直方图\n",
    "for i, a in activations.items():\n",
    "    plt.subplot(1, len(activations), i+1)\n",
    "    plt.title(str(i+1) + \"-layer\")\n",
    "    if i != 0: plt.yticks([], [])\n",
    "    # plt.xlim(0.1, 1)\n",
    "    # plt.ylim(0, 7000)\n",
    "    plt.hist(a.flatten(), 30, range=(0,1))\n",
    "plt.show()"
   ]
  },
  {
   "cell_type": "markdown",
   "metadata": {},
   "source": [
    "从上图可知，各层的激活值呈偏向 0 和 1 的分布。这里使用的 sigmoid 函数是 S 型函数，随着输出不断地靠近 0（或者靠近 1），它的导数的值逐渐接近 0。因此，偏向 0 和 1 的数据分布会造成反向传播中梯度的值不断变小，最后消失。这个问题称为梯度消失（gradient vanishing）。层次加深的深度学习中，梯度消失的问题可能会更加严重。"
   ]
  },
  {
   "cell_type": "code",
   "execution_count": 21,
   "metadata": {},
   "outputs": [
    {
     "data": {
      "image/png": "[encoded data removed]",
      "text/plain": [
       "<Figure size 432x288 with 5 Axes>"
      ]
     },
     "metadata": {},
     "output_type": "display_data"
    }
   ],
   "source": [
    "input_data = np.random.randn(1000, 100)  # 1000个数据\n",
    "node_num = 100  # 各隐藏层的节点（神经元）数\n",
    "hidden_layer_size = 5  # 隐藏层有5层\n",
    "activations = {}  # 激活值的结果保存在这里\n",
    "\n",
    "x = input_data\n",
    "\n",
    "for i in range(hidden_layer_size):\n",
    "    if i != 0:\n",
    "        x = activations[i-1]\n",
    "\n",
    "    # 改变初始值进行实验！\n",
    "    #w = np.random.randn(node_num, node_num) * 1\n",
    "    w = np.random.randn(node_num, node_num) * 0.01\n",
    "    # w = np.random.randn(node_num, node_num) * np.sqrt(1.0 / node_num)\n",
    "    # w = np.random.randn(node_num, node_num) * np.sqrt(2.0 / node_num)\n",
    "\n",
    "\n",
    "    a = np.dot(x, w)\n",
    "\n",
    "\n",
    "    # 将激活函数的种类也改变，来进行实验！\n",
    "    z = sigmoid(a)\n",
    "    # z = ReLU(a)\n",
    "    # z = tanh(a)\n",
    "\n",
    "    activations[i] = z\n",
    "\n",
    "# 绘制直方图\n",
    "for i, a in activations.items():\n",
    "    plt.subplot(1, len(activations), i+1)\n",
    "    plt.title(str(i+1) + \"-layer\")\n",
    "    if i != 0: plt.yticks([], [])\n",
    "    # plt.xlim(0.1, 1)\n",
    "    # plt.ylim(0, 7000)\n",
    "    plt.hist(a.flatten(), 30, range=(0,1))\n",
    "plt.show()"
   ]
  },
  {
   "cell_type": "markdown",
   "metadata": {},
   "source": [
    "使用标准差为0.01的高斯分布时，各层的激活值呈集中在0.5附近的分布。因为不像刚才的例子那样偏向 0 和 1，所以不会发生梯度消失的问题。但是，激活值的分布有所偏向，说明在表现力上会有很大问题。"
   ]
  },
  {
   "cell_type": "code",
   "execution_count": 22,
   "metadata": {},
   "outputs": [
    {
     "data": {
      "image/png": "[encoded data removed]",
      "text/plain": [
       "<Figure size 432x288 with 5 Axes>"
      ]
     },
     "metadata": {},
     "output_type": "display_data"
    }
   ],
   "source": [
    "input_data = np.random.randn(1000, 100)  # 1000个数据\n",
    "node_num = 100  # 各隐藏层的节点（神经元）数\n",
    "hidden_layer_size = 5  # 隐藏层有5层\n",
    "activations = {}  # 激活值的结果保存在这里\n",
    "\n",
    "x = input_data\n",
    "\n",
    "for i in range(hidden_layer_size):\n",
    "    if i != 0:\n",
    "        x = activations[i-1]\n",
    "\n",
    "    # 改变初始值进行实验！\n",
    "    #w = np.random.randn(node_num, node_num) * 1\n",
    "    #w = np.random.randn(node_num, node_num) * 0.01\n",
    "    w = np.random.randn(node_num, node_num) * np.sqrt(1.0 / node_num) # xavier 参数 xavier 参数\n",
    "    # w = np.random.randn(node_num, node_num) * np.sqrt(2.0 / node_num)\n",
    "\n",
    "\n",
    "    a = np.dot(x, w)\n",
    "\n",
    "\n",
    "    # 将激活函数的种类也改变，来进行实验！\n",
    "    z = sigmoid(a)\n",
    "    # z = ReLU(a)\n",
    "    # z = tanh(a)\n",
    "\n",
    "    activations[i] = z\n",
    "\n",
    "# 绘制直方图\n",
    "for i, a in activations.items():\n",
    "    plt.subplot(1, len(activations), i+1)\n",
    "    plt.title(str(i+1) + \"-layer\")\n",
    "    if i != 0: plt.yticks([], [])\n",
    "    # plt.xlim(0.1, 1)\n",
    "    # plt.ylim(0, 7000)\n",
    "    plt.hist(a.flatten(), 30, range=(0,1))\n",
    "plt.show()"
   ]
  },
  {
   "cell_type": "markdown",
   "metadata": {},
   "source": [
    "使用 Xavier 初始值后的结果如上图所示。从这个结果可知，越是后面的层，图像变得越歪斜，但是呈现了比之前更有广度的分布。因为各层间传递的数据有适当的广度，所以 sigmoid 函数的表现力不受限制，有望进行高效的学习。如果用 tanh 函数（双曲线函数）代替 sigmoid 函数，这个稍微歪斜的问题就能得到改善。实际上，使用 tanh 函数后，会呈漂亮的吊钟型分布。tanh 函数和 sigmoid 函数同是 S 型曲线函数，但 tanh 函数是关于原点 (0, 0) 对称的 S 型曲线，而 sigmoid 函数是关于 (x, y)=(0, 0.5) 对称的 S 型曲线。众所周知，用作激活函数的函数最好具有关于原点对称的性质。"
   ]
  },
  {
   "cell_type": "markdown",
   "metadata": {},
   "source": [
    "### ReLU的权重初始值\n",
    "当激活函数使用 ReLU 时，一般推荐使用 ReLU 专用的初始值，也就是 Kaiming He 等人推荐的初始值，也称为“He 初始值”[10]。当前一层的节点数为 n 时，He 初始值使用标准差为<img src=\"img/he.gif\"> 的高斯分布。当 Xavier 初始值是 <img src=\"img/he.gif\"> 时，（直观上）可以解释为，因为 ReLU 的负值区域的值为 0，为了使它更有广度，所以需要 2 倍的系数。\n",
    "\n",
    "总结一下，当激活函数使用 ReLU 时，权重初始值使用 He 初始值，当激活函数为 sigmoid 或 tanh 等 S 型曲线函数时，初始值使用 Xavier 初始值。这是目前的最佳实践。"
   ]
  },
  {
   "cell_type": "code",
   "execution_count": 23,
   "metadata": {},
   "outputs": [
    {
     "name": "stdout",
     "output_type": "stream",
     "text": [
      "===========iteration:0===========\n",
      "std=0.01:2.302497361937778\n",
      "Xavier:2.3059730713183457\n",
      "He:2.3751312466314602\n",
      "===========iteration:100===========\n",
      "std=0.01:2.3018090765099655\n",
      "Xavier:2.219919371347601\n",
      "He:1.581503342389745\n",
      "===========iteration:200===========\n",
      "std=0.01:2.302192657653113\n",
      "Xavier:2.050051303509106\n",
      "He:0.788586424298725\n",
      "===========iteration:300===========\n",
      "std=0.01:2.302496809807316\n",
      "Xavier:1.6044855098582596\n",
      "He:0.6927808012215093\n",
      "===========iteration:400===========\n",
      "std=0.01:2.30234195211392\n",
      "Xavier:1.2197759461176811\n",
      "He:0.6193675488792343\n",
      "===========iteration:500===========\n",
      "std=0.01:2.3037807329890514\n",
      "Xavier:0.7377121011787467\n",
      "He:0.36368103326224854\n",
      "===========iteration:600===========\n",
      "std=0.01:2.3020404282129703\n",
      "Xavier:0.6217607471653376\n",
      "He:0.3167549217915636\n",
      "===========iteration:700===========\n",
      "std=0.01:2.299527171078318\n",
      "Xavier:0.47188737670667147\n",
      "He:0.3104395597964348\n",
      "===========iteration:800===========\n",
      "std=0.01:2.29898006543129\n",
      "Xavier:0.41316730812594354\n",
      "He:0.305808463801581\n",
      "===========iteration:900===========\n",
      "std=0.01:2.302456392859066\n",
      "Xavier:0.3697642548972151\n",
      "He:0.24049632390418751\n",
      "===========iteration:1000===========\n",
      "std=0.01:2.306554058227833\n",
      "Xavier:0.6076770236758546\n",
      "He:0.4047515695837072\n",
      "===========iteration:1100===========\n",
      "std=0.01:2.2999882848317053\n",
      "Xavier:0.3253297329441738\n",
      "He:0.17661700334494135\n",
      "===========iteration:1200===========\n",
      "std=0.01:2.297346827377596\n",
      "Xavier:0.41606598687495505\n",
      "He:0.3020320439991292\n",
      "===========iteration:1300===========\n",
      "std=0.01:2.301179421997339\n",
      "Xavier:0.31793441260790967\n",
      "He:0.18776082593613905\n",
      "===========iteration:1400===========\n",
      "std=0.01:2.301927099009784\n",
      "Xavier:0.3270432422502923\n",
      "He:0.27982919655027555\n",
      "===========iteration:1500===========\n",
      "std=0.01:2.2961608970062377\n",
      "Xavier:0.29448772045699717\n",
      "He:0.20071614421374154\n",
      "===========iteration:1600===========\n",
      "std=0.01:2.3070814134709314\n",
      "Xavier:0.30042142388246085\n",
      "He:0.19199360560130765\n",
      "===========iteration:1700===========\n",
      "std=0.01:2.2985840746123265\n",
      "Xavier:0.2785379972394761\n",
      "He:0.2026021052948889\n",
      "===========iteration:1800===========\n",
      "std=0.01:2.306130373934236\n",
      "Xavier:0.23040266665002498\n",
      "He:0.1615777676290307\n",
      "===========iteration:1900===========\n",
      "std=0.01:2.3020718096661064\n",
      "Xavier:0.29052581764743407\n",
      "He:0.19914300326712636\n"
     ]
    },
    {
     "data": {
      "image/png": "[encoded data removed]",
      "text/plain": [
       "<Figure size 432x288 with 1 Axes>"
      ]
     },
     "metadata": {},
     "output_type": "display_data"
    }
   ],
   "source": [
    "# coding: utf-8\n",
    "import os\n",
    "import sys\n",
    "\n",
    "sys.path.append(os.pardir)  # 为了导入父目录的文件而进行的设定\n",
    "import numpy as np\n",
    "import matplotlib.pyplot as plt\n",
    "from dataset.mnist import load_mnist\n",
    "from common.util import smooth_curve\n",
    "from common.multi_layer_net import MultiLayerNet\n",
    "from common.optimizer import SGD\n",
    "\n",
    "\n",
    "# 0:读入MNIST数据==========\n",
    "(x_train, t_train), (x_test, t_test) = load_mnist(normalize=True)\n",
    "\n",
    "train_size = x_train.shape[0]\n",
    "batch_size = 128\n",
    "max_iterations = 2000\n",
    "\n",
    "\n",
    "# 1:进行实验的设置==========\n",
    "weight_init_types = {'std=0.01': 0.01, 'Xavier': 'sigmoid', 'He': 'relu'}\n",
    "optimizer = SGD(lr=0.01)\n",
    "\n",
    "networks = {}\n",
    "train_loss = {}\n",
    "for key, weight_type in weight_init_types.items():\n",
    "    networks[key] = MultiLayerNet(input_size=784, hidden_size_list=[100, 100, 100, 100],\n",
    "                                  output_size=10, weight_init_std=weight_type)\n",
    "    train_loss[key] = []\n",
    "\n",
    "\n",
    "# 2:开始训练==========\n",
    "for i in range(max_iterations):\n",
    "    batch_mask = np.random.choice(train_size, batch_size)\n",
    "    x_batch = x_train[batch_mask]\n",
    "    t_batch = t_train[batch_mask]\n",
    "    \n",
    "    for key in weight_init_types.keys():\n",
    "        grads = networks[key].gradient(x_batch, t_batch)\n",
    "        optimizer.update(networks[key].params, grads)\n",
    "    \n",
    "        loss = networks[key].loss(x_batch, t_batch)\n",
    "        train_loss[key].append(loss)\n",
    "    \n",
    "    if i % 100 == 0:\n",
    "        print(\"===========\" + \"iteration:\" + str(i) + \"===========\")\n",
    "        for key in weight_init_types.keys():\n",
    "            loss = networks[key].loss(x_batch, t_batch)\n",
    "            print(key + \":\" + str(loss))\n",
    "\n",
    "\n",
    "# 3.绘制图形==========\n",
    "markers = {'std=0.01': 'o', 'Xavier': 's', 'He': 'D'}\n",
    "x = np.arange(max_iterations)\n",
    "for key in weight_init_types.keys():\n",
    "    plt.plot(x, smooth_curve(train_loss[key]), marker=markers[key], markevery=100, label=key)\n",
    "plt.xlabel(\"iterations\")\n",
    "plt.ylabel(\"loss\")\n",
    "plt.ylim(0, 2.5)\n",
    "plt.legend()\n",
    "plt.show()"
   ]
  },
  {
   "cell_type": "markdown",
   "metadata": {},
   "source": [
    "这个实验中，神经网络有 5 层，每层有 100 个神经元，激活函数使用的是 ReLU。从图的结果可知，std = 0.01 时完全无法进行学习。这和刚才观察到的激活值的分布一样，是因为正向传播中传递的值很小（集中在 0 附近的数据）。因此，逆向传播时求到的梯度也很小，权重几乎不进行更新。相反，当权重初始值为 Xavier 初始值和 He 初始值时，学习进行得很顺利。并且，我们发现 He 初始值时的学习进度更快一些。"
   ]
  },
  {
   "cell_type": "markdown",
   "metadata": {},
   "source": [
    "# 3.Batch Normalization\n",
    "\n",
    "BatchNormalization是2015年提出的方法。有以下优点：\n",
    "* 可以使学习快速进行（可以增大学习率）。\n",
    "* 不那么依赖初始值（对于初始值不用那么神经质）。\n",
    "* 抑制过拟合（降低 Dropout 等的必要性）。"
   ]
  },
  {
   "cell_type": "code",
   "execution_count": 25,
   "metadata": {},
   "outputs": [
    {
     "name": "stdout",
     "output_type": "stream",
     "text": [
      "============== 1/16 ==============\n",
      "epoch:0 | 0.099 - 0.116\n"
     ]
    },
    {
     "name": "stderr",
     "output_type": "stream",
     "text": [
      "E:\\machineLearing\\DeepLearningTrainingCamp\\common\\layers.py:12: RuntimeWarning: invalid value encountered in less_equal\n",
      "  self.mask = (x <= 0)\n",
      "E:\\machineLearing\\DeepLearningTrainingCamp\\common\\multi_layer_net_extend.py:101: RuntimeWarning: overflow encountered in square\n",
      "  weight_decay += 0.5 * self.weight_decay_lambda * np.sum(W**2)\n",
      "E:\\machineLearing\\DeepLearningTrainingCamp\\common\\multi_layer_net_extend.py:101: RuntimeWarning: invalid value encountered in double_scalars\n",
      "  weight_decay += 0.5 * self.weight_decay_lambda * np.sum(W**2)\n"
     ]
    },
    {
     "name": "stdout",
     "output_type": "stream",
     "text": [
      "epoch:1 | 0.097 - 0.104\n",
      "epoch:2 | 0.097 - 0.119\n",
      "epoch:3 | 0.097 - 0.146\n",
      "epoch:4 | 0.097 - 0.162\n",
      "epoch:5 | 0.097 - 0.179\n",
      "epoch:6 | 0.097 - 0.203\n",
      "epoch:7 | 0.097 - 0.219\n",
      "epoch:8 | 0.097 - 0.233\n",
      "epoch:9 | 0.097 - 0.261\n",
      "epoch:10 | 0.097 - 0.278\n",
      "epoch:11 | 0.097 - 0.289\n",
      "epoch:12 | 0.097 - 0.312\n",
      "epoch:13 | 0.097 - 0.326\n",
      "epoch:14 | 0.097 - 0.335\n",
      "epoch:15 | 0.097 - 0.359\n",
      "epoch:16 | 0.097 - 0.368\n",
      "epoch:17 | 0.097 - 0.379\n",
      "epoch:18 | 0.097 - 0.392\n"
     ]
    },
    {
     "name": "stderr",
     "output_type": "stream",
     "text": [
      "No handles with labels found to put in legend.\n"
     ]
    },
    {
     "name": "stdout",
     "output_type": "stream",
     "text": [
      "epoch:19 | 0.097 - 0.406\n",
      "============== 2/16 ==============\n",
      "epoch:0 | 0.087 - 0.128\n"
     ]
    },
    {
     "name": "stderr",
     "output_type": "stream",
     "text": [
      "E:\\machineLearing\\DeepLearningTrainingCamp\\common\\functions.py:34: RuntimeWarning: invalid value encountered in subtract\n",
      "  x = x - np.max(x, axis=0)\n"
     ]
    },
    {
     "name": "stdout",
     "output_type": "stream",
     "text": [
      "epoch:1 | 0.097 - 0.109\n",
      "epoch:2 | 0.097 - 0.122\n",
      "epoch:3 | 0.097 - 0.15\n",
      "epoch:4 | 0.097 - 0.182\n",
      "epoch:5 | 0.097 - 0.205\n",
      "epoch:6 | 0.097 - 0.233\n",
      "epoch:7 | 0.097 - 0.267\n",
      "epoch:8 | 0.097 - 0.294\n",
      "epoch:9 | 0.097 - 0.317\n",
      "epoch:10 | 0.097 - 0.348\n",
      "epoch:11 | 0.097 - 0.362\n",
      "epoch:12 | 0.097 - 0.395\n",
      "epoch:13 | 0.097 - 0.418\n",
      "epoch:14 | 0.097 - 0.446\n",
      "epoch:15 | 0.097 - 0.465\n",
      "epoch:16 | 0.097 - 0.481\n",
      "epoch:17 | 0.097 - 0.503\n",
      "epoch:18 | 0.097 - 0.516\n"
     ]
    },
    {
     "name": "stderr",
     "output_type": "stream",
     "text": [
      "No handles with labels found to put in legend.\n"
     ]
    },
    {
     "name": "stdout",
     "output_type": "stream",
     "text": [
      "epoch:19 | 0.097 - 0.532\n",
      "============== 3/16 ==============\n",
      "epoch:0 | 0.1 - 0.122\n",
      "epoch:1 | 0.396 - 0.121\n",
      "epoch:2 | 0.547 - 0.168\n",
      "epoch:3 | 0.616 - 0.207\n",
      "epoch:4 | 0.715 - 0.262\n",
      "epoch:5 | 0.773 - 0.297\n",
      "epoch:6 | 0.817 - 0.336\n",
      "epoch:7 | 0.866 - 0.371\n",
      "epoch:8 | 0.899 - 0.411\n",
      "epoch:9 | 0.916 - 0.436\n",
      "epoch:10 | 0.934 - 0.471\n",
      "epoch:11 | 0.95 - 0.49\n",
      "epoch:12 | 0.955 - 0.516\n",
      "epoch:13 | 0.961 - 0.538\n",
      "epoch:14 | 0.972 - 0.561\n",
      "epoch:15 | 0.978 - 0.588\n",
      "epoch:16 | 0.979 - 0.606\n",
      "epoch:17 | 0.983 - 0.628\n",
      "epoch:18 | 0.982 - 0.632\n"
     ]
    },
    {
     "name": "stderr",
     "output_type": "stream",
     "text": [
      "No handles with labels found to put in legend.\n"
     ]
    },
    {
     "name": "stdout",
     "output_type": "stream",
     "text": [
      "epoch:19 | 0.987 - 0.657\n",
      "============== 4/16 ==============\n",
      "epoch:0 | 0.155 - 0.085\n",
      "epoch:1 | 0.354 - 0.109\n",
      "epoch:2 | 0.51 - 0.179\n",
      "epoch:3 | 0.591 - 0.275\n",
      "epoch:4 | 0.642 - 0.34\n",
      "epoch:5 | 0.674 - 0.405\n",
      "epoch:6 | 0.716 - 0.465\n",
      "epoch:7 | 0.721 - 0.508\n",
      "epoch:8 | 0.774 - 0.54\n",
      "epoch:9 | 0.783 - 0.585\n",
      "epoch:10 | 0.797 - 0.634\n",
      "epoch:11 | 0.811 - 0.652\n",
      "epoch:12 | 0.823 - 0.679\n",
      "epoch:13 | 0.845 - 0.7\n",
      "epoch:14 | 0.848 - 0.724\n",
      "epoch:15 | 0.863 - 0.729\n",
      "epoch:16 | 0.868 - 0.757\n",
      "epoch:17 | 0.874 - 0.769\n",
      "epoch:18 | 0.859 - 0.78\n"
     ]
    },
    {
     "name": "stderr",
     "output_type": "stream",
     "text": [
      "No handles with labels found to put in legend.\n"
     ]
    },
    {
     "name": "stdout",
     "output_type": "stream",
     "text": [
      "epoch:19 | 0.887 - 0.788\n",
      "============== 5/16 ==============\n",
      "epoch:0 | 0.114 - 0.085\n",
      "epoch:1 | 0.12 - 0.127\n",
      "epoch:2 | 0.138 - 0.297\n",
      "epoch:3 | 0.135 - 0.424\n",
      "epoch:4 | 0.148 - 0.504\n",
      "epoch:5 | 0.162 - 0.562\n",
      "epoch:6 | 0.19 - 0.614\n",
      "epoch:7 | 0.198 - 0.666\n",
      "epoch:8 | 0.207 - 0.7\n",
      "epoch:9 | 0.215 - 0.73\n",
      "epoch:10 | 0.222 - 0.761\n",
      "epoch:11 | 0.229 - 0.784\n",
      "epoch:12 | 0.236 - 0.8\n",
      "epoch:13 | 0.245 - 0.819\n",
      "epoch:14 | 0.239 - 0.835\n",
      "epoch:15 | 0.237 - 0.852\n",
      "epoch:16 | 0.243 - 0.857\n",
      "epoch:17 | 0.247 - 0.872\n",
      "epoch:18 | 0.248 - 0.88\n"
     ]
    },
    {
     "name": "stderr",
     "output_type": "stream",
     "text": [
      "No handles with labels found to put in legend.\n"
     ]
    },
    {
     "name": "stdout",
     "output_type": "stream",
     "text": [
      "epoch:19 | 0.258 - 0.89\n",
      "============== 6/16 ==============\n",
      "epoch:0 | 0.066 - 0.101\n",
      "epoch:1 | 0.093 - 0.18\n",
      "epoch:2 | 0.094 - 0.38\n",
      "epoch:3 | 0.118 - 0.55\n",
      "epoch:4 | 0.131 - 0.643\n",
      "epoch:5 | 0.119 - 0.695\n",
      "epoch:6 | 0.117 - 0.744\n",
      "epoch:7 | 0.118 - 0.79\n",
      "epoch:8 | 0.152 - 0.817\n",
      "epoch:9 | 0.152 - 0.833\n",
      "epoch:10 | 0.153 - 0.854\n",
      "epoch:11 | 0.158 - 0.875\n",
      "epoch:12 | 0.137 - 0.888\n",
      "epoch:13 | 0.155 - 0.889\n",
      "epoch:14 | 0.116 - 0.901\n",
      "epoch:15 | 0.116 - 0.912\n",
      "epoch:16 | 0.117 - 0.915\n",
      "epoch:17 | 0.116 - 0.927\n",
      "epoch:18 | 0.116 - 0.935\n"
     ]
    },
    {
     "name": "stderr",
     "output_type": "stream",
     "text": [
      "No handles with labels found to put in legend.\n"
     ]
    },
    {
     "name": "stdout",
     "output_type": "stream",
     "text": [
      "epoch:19 | 0.116 - 0.943\n",
      "============== 7/16 ==============\n",
      "epoch:0 | 0.105 - 0.086\n",
      "epoch:1 | 0.122 - 0.309\n",
      "epoch:2 | 0.116 - 0.605\n",
      "epoch:3 | 0.116 - 0.723\n",
      "epoch:4 | 0.116 - 0.764\n",
      "epoch:5 | 0.116 - 0.793\n",
      "epoch:6 | 0.116 - 0.812\n",
      "epoch:7 | 0.116 - 0.846\n",
      "epoch:8 | 0.116 - 0.868\n",
      "epoch:9 | 0.116 - 0.887\n",
      "epoch:10 | 0.116 - 0.908\n",
      "epoch:11 | 0.116 - 0.939\n",
      "epoch:12 | 0.116 - 0.947\n",
      "epoch:13 | 0.116 - 0.96\n",
      "epoch:14 | 0.116 - 0.967\n",
      "epoch:15 | 0.117 - 0.974\n",
      "epoch:16 | 0.117 - 0.98\n",
      "epoch:17 | 0.117 - 0.982\n",
      "epoch:18 | 0.117 - 0.987\n"
     ]
    },
    {
     "name": "stderr",
     "output_type": "stream",
     "text": [
      "No handles with labels found to put in legend.\n"
     ]
    },
    {
     "name": "stdout",
     "output_type": "stream",
     "text": [
      "epoch:19 | 0.117 - 0.99\n",
      "============== 8/16 ==============\n",
      "epoch:0 | 0.083 - 0.164\n",
      "epoch:1 | 0.105 - 0.513\n",
      "epoch:2 | 0.105 - 0.707\n",
      "epoch:3 | 0.116 - 0.776\n",
      "epoch:4 | 0.116 - 0.843\n",
      "epoch:5 | 0.116 - 0.894\n",
      "epoch:6 | 0.116 - 0.919\n",
      "epoch:7 | 0.116 - 0.94\n",
      "epoch:8 | 0.116 - 0.958\n",
      "epoch:9 | 0.116 - 0.969\n",
      "epoch:10 | 0.116 - 0.979\n",
      "epoch:11 | 0.116 - 0.988\n",
      "epoch:12 | 0.116 - 0.992\n",
      "epoch:13 | 0.116 - 0.993\n",
      "epoch:14 | 0.116 - 0.995\n",
      "epoch:15 | 0.116 - 0.997\n",
      "epoch:16 | 0.116 - 0.998\n",
      "epoch:17 | 0.116 - 1.0\n",
      "epoch:18 | 0.116 - 0.998\n"
     ]
    },
    {
     "name": "stderr",
     "output_type": "stream",
     "text": [
      "No handles with labels found to put in legend.\n"
     ]
    },
    {
     "name": "stdout",
     "output_type": "stream",
     "text": [
      "epoch:19 | 0.116 - 1.0\n",
      "============== 9/16 ==============\n",
      "epoch:0 | 0.087 - 0.126\n",
      "epoch:1 | 0.116 - 0.366\n",
      "epoch:2 | 0.116 - 0.65\n",
      "epoch:3 | 0.116 - 0.759\n",
      "epoch:4 | 0.116 - 0.865\n",
      "epoch:5 | 0.116 - 0.868\n",
      "epoch:6 | 0.116 - 0.886\n",
      "epoch:7 | 0.117 - 0.897\n",
      "epoch:8 | 0.117 - 0.916\n",
      "epoch:9 | 0.117 - 0.943\n",
      "epoch:10 | 0.117 - 0.96\n",
      "epoch:11 | 0.117 - 0.992\n",
      "epoch:12 | 0.117 - 0.993\n",
      "epoch:13 | 0.117 - 0.996\n",
      "epoch:14 | 0.117 - 0.997\n",
      "epoch:15 | 0.117 - 0.998\n",
      "epoch:16 | 0.117 - 0.998\n",
      "epoch:17 | 0.117 - 1.0\n",
      "epoch:18 | 0.117 - 1.0\n"
     ]
    },
    {
     "name": "stderr",
     "output_type": "stream",
     "text": [
      "No handles with labels found to put in legend.\n"
     ]
    },
    {
     "name": "stdout",
     "output_type": "stream",
     "text": [
      "epoch:19 | 0.117 - 1.0\n",
      "============== 10/16 ==============\n",
      "epoch:0 | 0.1 - 0.134\n",
      "epoch:1 | 0.105 - 0.645\n",
      "epoch:2 | 0.116 - 0.768\n",
      "epoch:3 | 0.116 - 0.829\n",
      "epoch:4 | 0.117 - 0.903\n",
      "epoch:5 | 0.117 - 0.933\n",
      "epoch:6 | 0.117 - 0.946\n",
      "epoch:7 | 0.117 - 0.978\n",
      "epoch:8 | 0.117 - 0.978\n",
      "epoch:9 | 0.117 - 0.983\n",
      "epoch:10 | 0.117 - 0.988\n",
      "epoch:11 | 0.117 - 0.991\n",
      "epoch:12 | 0.117 - 0.995\n",
      "epoch:13 | 0.117 - 0.989\n",
      "epoch:14 | 0.117 - 0.998\n",
      "epoch:15 | 0.117 - 0.996\n",
      "epoch:16 | 0.117 - 0.998\n",
      "epoch:17 | 0.117 - 0.998\n",
      "epoch:18 | 0.117 - 0.998\n"
     ]
    },
    {
     "name": "stderr",
     "output_type": "stream",
     "text": [
      "No handles with labels found to put in legend.\n"
     ]
    },
    {
     "name": "stdout",
     "output_type": "stream",
     "text": [
      "epoch:19 | 0.117 - 0.998\n",
      "============== 11/16 ==============\n",
      "epoch:0 | 0.097 - 0.279\n",
      "epoch:1 | 0.116 - 0.562\n",
      "epoch:2 | 0.116 - 0.617\n",
      "epoch:3 | 0.116 - 0.648\n",
      "epoch:4 | 0.116 - 0.773\n",
      "epoch:5 | 0.116 - 0.678\n",
      "epoch:6 | 0.117 - 0.832\n",
      "epoch:7 | 0.117 - 0.81\n",
      "epoch:8 | 0.117 - 0.937\n",
      "epoch:9 | 0.117 - 0.909\n",
      "epoch:10 | 0.117 - 0.958\n",
      "epoch:11 | 0.117 - 0.942\n",
      "epoch:12 | 0.117 - 0.924\n",
      "epoch:13 | 0.117 - 0.884\n",
      "epoch:14 | 0.117 - 0.883\n",
      "epoch:15 | 0.117 - 0.958\n",
      "epoch:16 | 0.117 - 0.986\n",
      "epoch:17 | 0.117 - 0.991\n",
      "epoch:18 | 0.117 - 0.992\n"
     ]
    },
    {
     "name": "stderr",
     "output_type": "stream",
     "text": [
      "No handles with labels found to put in legend.\n"
     ]
    },
    {
     "name": "stdout",
     "output_type": "stream",
     "text": [
      "epoch:19 | 0.117 - 0.991\n",
      "============== 12/16 ==============\n",
      "epoch:0 | 0.117 - 0.179\n",
      "epoch:1 | 0.117 - 0.461\n",
      "epoch:2 | 0.117 - 0.629\n",
      "epoch:3 | 0.117 - 0.598\n",
      "epoch:4 | 0.117 - 0.735\n",
      "epoch:5 | 0.117 - 0.817\n",
      "epoch:6 | 0.117 - 0.866\n",
      "epoch:7 | 0.117 - 0.876\n",
      "epoch:8 | 0.117 - 0.848\n",
      "epoch:9 | 0.117 - 0.87\n",
      "epoch:10 | 0.117 - 0.871\n",
      "epoch:11 | 0.117 - 0.94\n",
      "epoch:12 | 0.117 - 0.982\n",
      "epoch:13 | 0.117 - 0.986\n",
      "epoch:14 | 0.117 - 0.984\n",
      "epoch:15 | 0.117 - 0.99\n",
      "epoch:16 | 0.117 - 0.989\n",
      "epoch:17 | 0.117 - 0.99\n",
      "epoch:18 | 0.117 - 0.977\n"
     ]
    },
    {
     "name": "stderr",
     "output_type": "stream",
     "text": [
      "No handles with labels found to put in legend.\n"
     ]
    },
    {
     "name": "stdout",
     "output_type": "stream",
     "text": [
      "epoch:19 | 0.117 - 0.991\n",
      "============== 13/16 ==============\n",
      "epoch:0 | 0.099 - 0.202\n",
      "epoch:1 | 0.117 - 0.376\n",
      "epoch:2 | 0.117 - 0.456\n",
      "epoch:3 | 0.116 - 0.489\n",
      "epoch:4 | 0.116 - 0.511\n",
      "epoch:5 | 0.116 - 0.492\n",
      "epoch:6 | 0.117 - 0.523\n",
      "epoch:7 | 0.117 - 0.525\n",
      "epoch:8 | 0.116 - 0.512\n",
      "epoch:9 | 0.116 - 0.524\n",
      "epoch:10 | 0.116 - 0.512\n",
      "epoch:11 | 0.116 - 0.525\n",
      "epoch:12 | 0.116 - 0.524\n",
      "epoch:13 | 0.116 - 0.524\n",
      "epoch:14 | 0.116 - 0.526\n",
      "epoch:15 | 0.116 - 0.526\n",
      "epoch:16 | 0.116 - 0.527\n",
      "epoch:17 | 0.116 - 0.517\n",
      "epoch:18 | 0.116 - 0.526\n"
     ]
    },
    {
     "name": "stderr",
     "output_type": "stream",
     "text": [
      "No handles with labels found to put in legend.\n"
     ]
    },
    {
     "name": "stdout",
     "output_type": "stream",
     "text": [
      "epoch:19 | 0.116 - 0.558\n",
      "============== 14/16 ==============\n",
      "epoch:0 | 0.105 - 0.097\n",
      "epoch:1 | 0.117 - 0.395\n",
      "epoch:2 | 0.117 - 0.478\n",
      "epoch:3 | 0.117 - 0.482\n",
      "epoch:4 | 0.116 - 0.494\n",
      "epoch:5 | 0.116 - 0.521\n",
      "epoch:6 | 0.117 - 0.463\n",
      "epoch:7 | 0.117 - 0.545\n",
      "epoch:8 | 0.117 - 0.601\n",
      "epoch:9 | 0.117 - 0.59\n",
      "epoch:10 | 0.117 - 0.589\n",
      "epoch:11 | 0.117 - 0.589\n",
      "epoch:12 | 0.117 - 0.616\n",
      "epoch:13 | 0.117 - 0.612\n",
      "epoch:14 | 0.117 - 0.617\n",
      "epoch:15 | 0.116 - 0.608\n",
      "epoch:16 | 0.116 - 0.62\n",
      "epoch:17 | 0.116 - 0.621\n",
      "epoch:18 | 0.116 - 0.564\n"
     ]
    },
    {
     "name": "stderr",
     "output_type": "stream",
     "text": [
      "No handles with labels found to put in legend.\n"
     ]
    },
    {
     "name": "stdout",
     "output_type": "stream",
     "text": [
      "epoch:19 | 0.116 - 0.62\n",
      "============== 15/16 ==============\n",
      "epoch:0 | 0.116 - 0.171\n",
      "epoch:1 | 0.116 - 0.311\n",
      "epoch:2 | 0.116 - 0.401\n",
      "epoch:3 | 0.116 - 0.493\n",
      "epoch:4 | 0.116 - 0.479\n",
      "epoch:5 | 0.116 - 0.498\n",
      "epoch:6 | 0.116 - 0.509\n",
      "epoch:7 | 0.116 - 0.506\n",
      "epoch:8 | 0.117 - 0.507\n",
      "epoch:9 | 0.117 - 0.476\n",
      "epoch:10 | 0.117 - 0.56\n",
      "epoch:11 | 0.117 - 0.589\n",
      "epoch:12 | 0.117 - 0.594\n",
      "epoch:13 | 0.117 - 0.585\n",
      "epoch:14 | 0.117 - 0.603\n",
      "epoch:15 | 0.117 - 0.593\n",
      "epoch:16 | 0.117 - 0.622\n",
      "epoch:17 | 0.117 - 0.624\n",
      "epoch:18 | 0.117 - 0.615\n"
     ]
    },
    {
     "name": "stderr",
     "output_type": "stream",
     "text": [
      "No handles with labels found to put in legend.\n"
     ]
    },
    {
     "name": "stdout",
     "output_type": "stream",
     "text": [
      "epoch:19 | 0.117 - 0.622\n",
      "============== 16/16 ==============\n",
      "epoch:0 | 0.117 - 0.115\n",
      "epoch:1 | 0.116 - 0.318\n",
      "epoch:2 | 0.117 - 0.318\n",
      "epoch:3 | 0.117 - 0.394\n",
      "epoch:4 | 0.117 - 0.398\n",
      "epoch:5 | 0.117 - 0.405\n",
      "epoch:6 | 0.117 - 0.378\n",
      "epoch:7 | 0.117 - 0.412\n",
      "epoch:8 | 0.117 - 0.424\n",
      "epoch:9 | 0.116 - 0.42\n",
      "epoch:10 | 0.116 - 0.429\n",
      "epoch:11 | 0.116 - 0.416\n",
      "epoch:12 | 0.116 - 0.433\n",
      "epoch:13 | 0.116 - 0.457\n",
      "epoch:14 | 0.116 - 0.441\n",
      "epoch:15 | 0.116 - 0.452\n",
      "epoch:16 | 0.116 - 0.481\n",
      "epoch:17 | 0.116 - 0.436\n",
      "epoch:18 | 0.116 - 0.495\n",
      "epoch:19 | 0.116 - 0.503\n"
     ]
    },
    {
     "data": {
      "image/png": "[encoded data removed]",
      "text/plain": [
       "<Figure size 432x288 with 16 Axes>"
      ]
     },
     "metadata": {},
     "output_type": "display_data"
    }
   ],
   "source": [
    "# coding: utf-8\n",
    "import sys, os\n",
    "sys.path.append(os.pardir)  # 为了导入父目录的文件而进行的设定\n",
    "import numpy as np\n",
    "import matplotlib.pyplot as plt\n",
    "from dataset.mnist import load_mnist\n",
    "from common.multi_layer_net_extend import MultiLayerNetExtend\n",
    "from common.optimizer import SGD, Adam\n",
    "\n",
    "(x_train, t_train), (x_test, t_test) = load_mnist(normalize=True)\n",
    "\n",
    "# 减少学习数据\n",
    "x_train = x_train[:1000]\n",
    "t_train = t_train[:1000]\n",
    "\n",
    "max_epochs = 20\n",
    "train_size = x_train.shape[0]\n",
    "batch_size = 100\n",
    "learning_rate = 0.01\n",
    "\n",
    "\n",
    "def __train(weight_init_std):\n",
    "    bn_network = MultiLayerNetExtend(input_size=784, hidden_size_list=[100, 100, 100, 100, 100], output_size=10, \n",
    "                                    weight_init_std=weight_init_std, use_batchnorm=True)\n",
    "    network = MultiLayerNetExtend(input_size=784, hidden_size_list=[100, 100, 100, 100, 100], output_size=10,\n",
    "                                weight_init_std=weight_init_std)\n",
    "    optimizer = SGD(lr=learning_rate)\n",
    "    \n",
    "    train_acc_list = []\n",
    "    bn_train_acc_list = []\n",
    "    \n",
    "    iter_per_epoch = max(train_size / batch_size, 1)\n",
    "    epoch_cnt = 0\n",
    "    \n",
    "    for i in range(1000000000):\n",
    "        batch_mask = np.random.choice(train_size, batch_size)\n",
    "        x_batch = x_train[batch_mask]\n",
    "        t_batch = t_train[batch_mask]\n",
    "    \n",
    "        for _network in (bn_network, network):\n",
    "            grads = _network.gradient(x_batch, t_batch)\n",
    "            optimizer.update(_network.params, grads)\n",
    "    \n",
    "        if i % iter_per_epoch == 0:\n",
    "            train_acc = network.accuracy(x_train, t_train)\n",
    "            bn_train_acc = bn_network.accuracy(x_train, t_train)\n",
    "            train_acc_list.append(train_acc)\n",
    "            bn_train_acc_list.append(bn_train_acc)\n",
    "    \n",
    "            print(\"epoch:\" + str(epoch_cnt) + \" | \" + str(train_acc) + \" - \" + str(bn_train_acc))\n",
    "    \n",
    "            epoch_cnt += 1\n",
    "            if epoch_cnt >= max_epochs:\n",
    "                break\n",
    "                \n",
    "    return train_acc_list, bn_train_acc_list\n",
    "\n",
    "\n",
    "# 3.绘制图形==========\n",
    "weight_scale_list = np.logspace(0, -4, num=16)\n",
    "x = np.arange(max_epochs)\n",
    "\n",
    "for i, w in enumerate(weight_scale_list):\n",
    "    print( \"============== \" + str(i+1) + \"/16\" + \" ==============\")\n",
    "    train_acc_list, bn_train_acc_list = __train(w)\n",
    "    \n",
    "    plt.subplot(4,4,i+1)\n",
    "    plt.title(\"W:\" + str(w))\n",
    "    if i == 15:\n",
    "        plt.plot(x, bn_train_acc_list, label='Batch Normalization', markevery=2)\n",
    "        plt.plot(x, train_acc_list, linestyle = \"--\", label='Normal(without BatchNorm)', markevery=2)\n",
    "    else:\n",
    "        plt.plot(x, bn_train_acc_list, markevery=2)\n",
    "        plt.plot(x, train_acc_list, linestyle=\"--\", markevery=2)\n",
    "\n",
    "    plt.ylim(0, 1.0)\n",
    "    if i % 4:\n",
    "        plt.yticks([])\n",
    "    else:\n",
    "        plt.ylabel(\"accuracy\")\n",
    "    if i < 12:\n",
    "        plt.xticks([])\n",
    "    else:\n",
    "        plt.xlabel(\"epochs\")\n",
    "    plt.legend(loc='lower right')\n",
    "    \n",
    "plt.show()"
   ]
  }
 ],
 "metadata": {
  "kernelspec": {
   "display_name": "Python 3",
   "language": "python",
   "name": "python3"
  },
  "language_info": {
   "codemirror_mode": {
    "name": "ipython",
    "version": 3
   },
   "file_extension": ".py",
   "mimetype": "text/x-python",
   "name": "python",
   "nbconvert_exporter": "python",
   "pygments_lexer": "ipython3",
   "version": "3.6.5"
  }
 },
 "nbformat": 4,
 "nbformat_minor": 2
}
